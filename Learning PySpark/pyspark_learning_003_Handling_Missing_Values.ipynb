{
 "cells": [
  {
   "cell_type": "markdown",
   "id": "bd7ff3b6-99ac-486b-a663-bd837b37eed6",
   "metadata": {},
   "source": [
    "#### Pyspark Handling Missing Values\n",
    "- Dropping Columns\n",
    "- Dropping Rows\n",
    "- Various Parameter in Dropping functionalities\n",
    "- Handling Missing values by Mean, Median, Mode"
   ]
  },
  {
   "cell_type": "code",
   "execution_count": 1,
   "id": "9d850e78-e97b-4f6b-b6ef-f7cb3f75bbbf",
   "metadata": {},
   "outputs": [],
   "source": [
    "from pyspark.sql import SparkSession"
   ]
  },
  {
   "cell_type": "code",
   "execution_count": 2,
   "id": "690e5911-4496-4f70-9f96-ac47ad1b5828",
   "metadata": {},
   "outputs": [],
   "source": [
    "spark = SparkSession.builder.appName('HMValues').getOrCreate()"
   ]
  },
  {
   "cell_type": "code",
   "execution_count": 6,
   "id": "946a02ce-1d09-47b7-b208-8f575b907c50",
   "metadata": {},
   "outputs": [],
   "source": [
    "df = spark.read.csv('people.csv', header=True, inferSchema=True)"
   ]
  },
  {
   "cell_type": "code",
   "execution_count": 7,
   "id": "315f98c4-6a1d-400c-a006-46fb42bf5f5a",
   "metadata": {},
   "outputs": [
    {
     "name": "stdout",
     "output_type": "stream",
     "text": [
      "+---------+---+----------+------+------+\n",
      "|     Name|Age|Experience|Gender|Salary|\n",
      "+---------+---+----------+------+------+\n",
      "|    Peter| 45|        15|     M|  5000|\n",
      "|Clevelend| 42|         3|  NULL|  1000|\n",
      "| Quagmire| 61|        40|     M|  3500|\n",
      "|      Joe| 40|         5|  NULL|  NULL|\n",
      "|     Lois| 40|         4|     F|  2500|\n",
      "|      Meg| 17|         1|     F|  NULL|\n",
      "+---------+---+----------+------+------+\n",
      "\n"
     ]
    }
   ],
   "source": [
    "df.show()"
   ]
  },
  {
   "cell_type": "code",
   "execution_count": 8,
   "id": "2502d366-0966-4de1-9e56-95b0529c456f",
   "metadata": {},
   "outputs": [
    {
     "name": "stdout",
     "output_type": "stream",
     "text": [
      "+---------+----------+------+------+\n",
      "|     Name|Experience|Gender|Salary|\n",
      "+---------+----------+------+------+\n",
      "|    Peter|        15|     M|  5000|\n",
      "|Clevelend|         3|  NULL|  1000|\n",
      "| Quagmire|        40|     M|  3500|\n",
      "|      Joe|         5|  NULL|  NULL|\n",
      "|     Lois|         4|     F|  2500|\n",
      "|      Meg|         1|     F|  NULL|\n",
      "+---------+----------+------+------+\n",
      "\n"
     ]
    }
   ],
   "source": [
    "## dropping the columns\n",
    "df.drop('Age').show() ## or ['Age', 'Name'] for multiple columns"
   ]
  },
  {
   "cell_type": "code",
   "execution_count": 9,
   "id": "c46fa8b8-b84f-4cf4-83ed-f907c2f49b3e",
   "metadata": {},
   "outputs": [
    {
     "name": "stdout",
     "output_type": "stream",
     "text": [
      "+---------+---+----------+------+------+\n",
      "|     Name|Age|Experience|Gender|Salary|\n",
      "+---------+---+----------+------+------+\n",
      "|    Peter| 45|        15|     M|  5000|\n",
      "|Clevelend| 42|         3|  NULL|  1000|\n",
      "| Quagmire| 61|        40|     M|  3500|\n",
      "|      Joe| 40|         5|  NULL|  NULL|\n",
      "|     Lois| 40|         4|     F|  2500|\n",
      "|      Meg| 17|         1|     F|  NULL|\n",
      "+---------+---+----------+------+------+\n",
      "\n"
     ]
    }
   ],
   "source": [
    "df.show()"
   ]
  },
  {
   "cell_type": "code",
   "execution_count": 10,
   "id": "ad756a16-e268-4462-9cd8-2e57e5eb3dd8",
   "metadata": {},
   "outputs": [
    {
     "name": "stdout",
     "output_type": "stream",
     "text": [
      "+--------+---+----------+------+------+\n",
      "|    Name|Age|Experience|Gender|Salary|\n",
      "+--------+---+----------+------+------+\n",
      "|   Peter| 45|        15|     M|  5000|\n",
      "|Quagmire| 61|        40|     M|  3500|\n",
      "|    Lois| 40|         4|     F|  2500|\n",
      "+--------+---+----------+------+------+\n",
      "\n"
     ]
    }
   ],
   "source": [
    "df.na.drop().show() ## drops every null value"
   ]
  },
  {
   "cell_type": "code",
   "execution_count": 12,
   "id": "c9e2e516-6f8c-4af6-a57e-3bfa2ddba703",
   "metadata": {},
   "outputs": [
    {
     "name": "stdout",
     "output_type": "stream",
     "text": [
      "+--------+---+----------+------+------+\n",
      "|    Name|Age|Experience|Gender|Salary|\n",
      "+--------+---+----------+------+------+\n",
      "|   Peter| 45|        15|     M|  5000|\n",
      "|Quagmire| 61|        40|     M|  3500|\n",
      "|    Lois| 40|         4|     F|  2500|\n",
      "+--------+---+----------+------+------+\n",
      "\n"
     ]
    }
   ],
   "source": [
    "df.na.drop(how=\"any\").show() ## any used to drop records that contain at least one null"
   ]
  },
  {
   "cell_type": "code",
   "execution_count": 13,
   "id": "672a88d0-d88d-4679-ba9b-67a5c1fc20a6",
   "metadata": {},
   "outputs": [
    {
     "name": "stdout",
     "output_type": "stream",
     "text": [
      "+---------+---+----------+------+------+\n",
      "|     Name|Age|Experience|Gender|Salary|\n",
      "+---------+---+----------+------+------+\n",
      "|    Peter| 45|        15|     M|  5000|\n",
      "|Clevelend| 42|         3|  NULL|  1000|\n",
      "| Quagmire| 61|        40|     M|  3500|\n",
      "|      Joe| 40|         5|  NULL|  NULL|\n",
      "|     Lois| 40|         4|     F|  2500|\n",
      "|      Meg| 17|         1|     F|  NULL|\n",
      "+---------+---+----------+------+------+\n",
      "\n"
     ]
    }
   ],
   "source": [
    "df.na.drop(how=\"all\").show() ## all used to drop records where every columns are null"
   ]
  },
  {
   "cell_type": "code",
   "execution_count": 16,
   "id": "992de48d-7ce7-4e8f-8791-c1eaf7610fae",
   "metadata": {},
   "outputs": [
    {
     "name": "stdout",
     "output_type": "stream",
     "text": [
      "+---------+---+----------+------+------+\n",
      "|     Name|Age|Experience|Gender|Salary|\n",
      "+---------+---+----------+------+------+\n",
      "|    Peter| 45|        15|     M|  5000|\n",
      "|Clevelend| 42|         3|  NULL|  1000|\n",
      "| Quagmire| 61|        40|     M|  3500|\n",
      "|     Lois| 40|         4|     F|  2500|\n",
      "|      Meg| 17|         1|     F|  NULL|\n",
      "+---------+---+----------+------+------+\n",
      "\n"
     ]
    }
   ],
   "source": [
    "## threshhold\n",
    "df.na.drop(how=\"any\", thresh=4).show() ## thresh will keep records that have at least n not-null values"
   ]
  },
  {
   "cell_type": "code",
   "execution_count": 17,
   "id": "d6843992-5b04-4d17-95d2-5f68eb915eb8",
   "metadata": {},
   "outputs": [
    {
     "name": "stdout",
     "output_type": "stream",
     "text": [
      "+--------+---+----------+------+------+\n",
      "|    Name|Age|Experience|Gender|Salary|\n",
      "+--------+---+----------+------+------+\n",
      "|   Peter| 45|        15|     M|  5000|\n",
      "|Quagmire| 61|        40|     M|  3500|\n",
      "|    Lois| 40|         4|     F|  2500|\n",
      "|     Meg| 17|         1|     F|  NULL|\n",
      "+--------+---+----------+------+------+\n",
      "\n"
     ]
    }
   ],
   "source": [
    "## subset\n",
    "df.na.drop(how=\"any\", subset=['Gender']).show() ## subset is used to drop null values in specific column"
   ]
  },
  {
   "cell_type": "code",
   "execution_count": null,
   "id": "725d86a8-5c48-426b-b16c-f81bf628194a",
   "metadata": {},
   "outputs": [],
   "source": []
  },
  {
   "cell_type": "code",
   "execution_count": 20,
   "id": "e8672ab8-90b7-4bd0-9092-bf9b7c6258cd",
   "metadata": {},
   "outputs": [
    {
     "name": "stdout",
     "output_type": "stream",
     "text": [
      "+---------+---+----------+------+------+\n",
      "|     Name|Age|Experience|Gender|Salary|\n",
      "+---------+---+----------+------+------+\n",
      "|    Peter| 45|        15|     M|  5000|\n",
      "|Clevelend| 42|         3|  NULL|  1000|\n",
      "| Quagmire| 61|        40|     M|  3500|\n",
      "|      Joe| 40|         5|  NULL|     0|\n",
      "|     Lois| 40|         4|     F|  2500|\n",
      "|      Meg| 17|         1|     F|     0|\n",
      "+---------+---+----------+------+------+\n",
      "\n"
     ]
    }
   ],
   "source": [
    "### filling the missing value\n",
    "df.na.fill(0, 'Salary').show()"
   ]
  },
  {
   "cell_type": "code",
   "execution_count": 29,
   "id": "1a34a3fa-2132-4225-a037-441315a5024e",
   "metadata": {},
   "outputs": [],
   "source": [
    "from pyspark.ml.feature import Imputer\n",
    "\n",
    "imputer = Imputer(\n",
    "    inputCols = ['Salary'],\n",
    "    outputCols = [\"{}_imputed\".format(c) for c in ['Salary']]\n",
    ").setStrategy(\"mean\") ## use median, mode"
   ]
  },
  {
   "cell_type": "code",
   "execution_count": 30,
   "id": "b439e683-fbcb-4377-beb5-35626db45ee0",
   "metadata": {},
   "outputs": [
    {
     "name": "stdout",
     "output_type": "stream",
     "text": [
      "+---------+---+----------+------+------+--------------+\n",
      "|     Name|Age|Experience|Gender|Salary|Salary_imputed|\n",
      "+---------+---+----------+------+------+--------------+\n",
      "|    Peter| 45|        15|     M|  5000|          5000|\n",
      "|Clevelend| 42|         3|  NULL|  1000|          1000|\n",
      "| Quagmire| 61|        40|     M|  3500|          3500|\n",
      "|      Joe| 40|         5|  NULL|  NULL|          3000|\n",
      "|     Lois| 40|         4|     F|  2500|          2500|\n",
      "|      Meg| 17|         1|     F|  NULL|          3000|\n",
      "+---------+---+----------+------+------+--------------+\n",
      "\n"
     ]
    }
   ],
   "source": [
    "imputer.fit(df).transform(df).show()"
   ]
  },
  {
   "cell_type": "code",
   "execution_count": null,
   "id": "af544426-3625-48b5-8a3d-f60d304544af",
   "metadata": {},
   "outputs": [],
   "source": []
  },
  {
   "cell_type": "code",
   "execution_count": null,
   "id": "efe3a31f-34d5-4a8b-9829-6a0419914254",
   "metadata": {},
   "outputs": [],
   "source": []
  }
 ],
 "metadata": {
  "kernelspec": {
   "display_name": "Python 3 (ipykernel)",
   "language": "python",
   "name": "python3"
  },
  "language_info": {
   "codemirror_mode": {
    "name": "ipython",
    "version": 3
   },
   "file_extension": ".py",
   "mimetype": "text/x-python",
   "name": "python",
   "nbconvert_exporter": "python",
   "pygments_lexer": "ipython3",
   "version": "3.13.5"
  }
 },
 "nbformat": 4,
 "nbformat_minor": 5
}
