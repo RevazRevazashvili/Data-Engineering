{
 "cells": [
  {
   "cell_type": "markdown",
   "id": "e0caa687-49ef-42b0-8eb9-df6481eb227b",
   "metadata": {},
   "source": [
    "#### **PySpark Dataframe**\n",
    "- PySpark Dataframe\n",
    "- Reading The Dataset\n",
    "- Checking The Datatypes of the Columns(Schema)\n",
    "- Check Describe option similar to pandas\n",
    "- Adding Columns\n",
    "- Dropping Columns\n",
    "- Renaming Columns"
   ]
  },
  {
   "cell_type": "code",
   "execution_count": 2,
   "id": "8f85bce9-06ba-424f-b184-3dca034bc2bc",
   "metadata": {},
   "outputs": [],
   "source": [
    "from pyspark.sql import SparkSession"
   ]
  },
  {
   "cell_type": "code",
   "execution_count": 3,
   "id": "81fe8ffc-fa27-44f6-89c4-85dc65f3f6e2",
   "metadata": {},
   "outputs": [],
   "source": [
    "spark = SparkSession.builder.appName('Dataframe').getOrCreate()"
   ]
  },
  {
   "cell_type": "code",
   "execution_count": 9,
   "id": "2351227c-aae1-4528-9e24-9000c6fcc2eb",
   "metadata": {},
   "outputs": [],
   "source": [
    "## read the dataset\n",
    "# inferSchema to keep datatypes as they are. inferSchema=False reads every columns as string\n",
    "spdf = spark.read.option('header', 'true').csv('people.csv', inferSchema=True)"
   ]
  },
  {
   "cell_type": "code",
   "execution_count": 10,
   "id": "ea95f261-90cb-4510-9056-2133173c3d4e",
   "metadata": {},
   "outputs": [
    {
     "name": "stdout",
     "output_type": "stream",
     "text": [
      "+---------+---+----------+\n",
      "|     Name|Age|Experience|\n",
      "+---------+---+----------+\n",
      "|    Peter| 45|        15|\n",
      "|Clevelend| 42|         3|\n",
      "| Quagmire| 61|        40|\n",
      "|      Joe| 40|         5|\n",
      "+---------+---+----------+\n",
      "\n"
     ]
    }
   ],
   "source": [
    "spdf.show()"
   ]
  },
  {
   "cell_type": "code",
   "execution_count": 11,
   "id": "e67aafa9-bc52-48e6-912e-6c1592e4ed5b",
   "metadata": {},
   "outputs": [
    {
     "name": "stdout",
     "output_type": "stream",
     "text": [
      "root\n",
      " |-- Name: string (nullable = true)\n",
      " |-- Age: integer (nullable = true)\n",
      " |-- Experience: integer (nullable = true)\n",
      "\n"
     ]
    }
   ],
   "source": [
    "## check the Schema\n",
    "spdf.printSchema()"
   ]
  },
  {
   "cell_type": "code",
   "execution_count": 14,
   "id": "83ead2e0-6946-4436-b120-6cb856484c3b",
   "metadata": {},
   "outputs": [
    {
     "name": "stdout",
     "output_type": "stream",
     "text": [
      "+---------+---+----------+\n",
      "|     Name|Age|Experience|\n",
      "+---------+---+----------+\n",
      "|    Peter| 45|        15|\n",
      "|Clevelend| 42|         3|\n",
      "| Quagmire| 61|        40|\n",
      "|      Joe| 40|         5|\n",
      "+---------+---+----------+\n",
      "\n"
     ]
    }
   ],
   "source": [
    "## perform all above lines in one\n",
    "df = spark.read.csv('people.csv', header=True, inferSchema=True)\n",
    "df.show()"
   ]
  },
  {
   "cell_type": "code",
   "execution_count": 15,
   "id": "1aa990d7-9250-4340-a9df-7f66b9e457a6",
   "metadata": {},
   "outputs": [
    {
     "data": {
      "text/plain": [
       "['Name', 'Age', 'Experience']"
      ]
     },
     "execution_count": 15,
     "metadata": {},
     "output_type": "execute_result"
    }
   ],
   "source": [
    "## check columns\n",
    "df.columns"
   ]
  },
  {
   "cell_type": "code",
   "execution_count": 18,
   "id": "c53ec37c-a25e-4aac-ae7f-05ed469b518d",
   "metadata": {},
   "outputs": [
    {
     "data": {
      "text/plain": [
       "[Row(Name='Peter', Age=45, Experience=15),\n",
       " Row(Name='Clevelend', Age=42, Experience=3),\n",
       " Row(Name='Quagmire', Age=61, Experience=40)]"
      ]
     },
     "execution_count": 18,
     "metadata": {},
     "output_type": "execute_result"
    }
   ],
   "source": [
    "## read head n records\n",
    "df.head(3) # returns a list"
   ]
  },
  {
   "cell_type": "code",
   "execution_count": 20,
   "id": "a64a9b15-a062-42e0-8e67-ae0768d82020",
   "metadata": {},
   "outputs": [
    {
     "name": "stdout",
     "output_type": "stream",
     "text": [
      "+---------+\n",
      "|     Name|\n",
      "+---------+\n",
      "|    Peter|\n",
      "|Clevelend|\n",
      "| Quagmire|\n",
      "|      Joe|\n",
      "+---------+\n",
      "\n"
     ]
    }
   ],
   "source": [
    "## pick up a column\n",
    "df.select('Name').show()"
   ]
  },
  {
   "cell_type": "code",
   "execution_count": 21,
   "id": "80d245aa-0e87-453a-9bc9-8ecb43820771",
   "metadata": {},
   "outputs": [
    {
     "name": "stdout",
     "output_type": "stream",
     "text": [
      "+---------+---+\n",
      "|     Name|Age|\n",
      "+---------+---+\n",
      "|    Peter| 45|\n",
      "|Clevelend| 42|\n",
      "| Quagmire| 61|\n",
      "|      Joe| 40|\n",
      "+---------+---+\n",
      "\n"
     ]
    }
   ],
   "source": [
    "df.select(['Name', 'Age']).show()"
   ]
  },
  {
   "cell_type": "code",
   "execution_count": 22,
   "id": "ba7da648-9210-4608-afab-d3e44453529c",
   "metadata": {},
   "outputs": [
    {
     "data": {
      "text/plain": [
       "[('Name', 'string'), ('Age', 'int'), ('Experience', 'int')]"
      ]
     },
     "execution_count": 22,
     "metadata": {},
     "output_type": "execute_result"
    }
   ],
   "source": [
    "## check datatypes\n",
    "df.dtypes"
   ]
  },
  {
   "cell_type": "code",
   "execution_count": 25,
   "id": "4a0b8cdf-05e2-4c53-829d-21631f0a2cc4",
   "metadata": {},
   "outputs": [
    {
     "name": "stdout",
     "output_type": "stream",
     "text": [
      "+-------+---------+-----------------+-----------------+\n",
      "|summary|     Name|              Age|       Experience|\n",
      "+-------+---------+-----------------+-----------------+\n",
      "|  count|        4|                4|                4|\n",
      "|   mean|     NULL|             47.0|            15.75|\n",
      "| stddev|     NULL|9.556847457887635|16.99754884289693|\n",
      "|    min|Clevelend|               40|                3|\n",
      "|    max| Quagmire|               61|               40|\n",
      "+-------+---------+-----------------+-----------------+\n",
      "\n"
     ]
    }
   ],
   "source": [
    "## check describe\n",
    "df.describe().show()"
   ]
  },
  {
   "cell_type": "code",
   "execution_count": 30,
   "id": "a342353d-489d-4436-b515-fb702a0aceb2",
   "metadata": {},
   "outputs": [],
   "source": [
    "## adding columns in datframe\n",
    "ndf = df.withColumn('Experience after 2 years', df['Experience']+2)"
   ]
  },
  {
   "cell_type": "code",
   "execution_count": 32,
   "id": "3ed4bcde-1542-45f8-a653-4ac0000ae552",
   "metadata": {},
   "outputs": [
    {
     "name": "stdout",
     "output_type": "stream",
     "text": [
      "+---------+---+----------+------------------------+\n",
      "|     Name|Age|Experience|Experience after 2 years|\n",
      "+---------+---+----------+------------------------+\n",
      "|    Peter| 45|        15|                      17|\n",
      "|Clevelend| 42|         3|                       5|\n",
      "| Quagmire| 61|        40|                      42|\n",
      "|      Joe| 40|         5|                       7|\n",
      "+---------+---+----------+------------------------+\n",
      "\n"
     ]
    }
   ],
   "source": [
    "ndf.show()"
   ]
  },
  {
   "cell_type": "code",
   "execution_count": 36,
   "id": "5dc8fa7c-6ddc-4800-aa95-b798c441cd1d",
   "metadata": {},
   "outputs": [
    {
     "name": "stdout",
     "output_type": "stream",
     "text": [
      "+---------+---+----------+\n",
      "|     Name|Age|Experience|\n",
      "+---------+---+----------+\n",
      "|    Peter| 45|        15|\n",
      "|Clevelend| 42|         3|\n",
      "| Quagmire| 61|        40|\n",
      "|      Joe| 40|         5|\n",
      "+---------+---+----------+\n",
      "\n"
     ]
    }
   ],
   "source": [
    "## drop the columns\n",
    "dndf = ndf.drop('Experience after 2 years')\n",
    "dndf.show()"
   ]
  },
  {
   "cell_type": "code",
   "execution_count": 38,
   "id": "159b3ad4-6bbf-4959-b48c-c43269c39197",
   "metadata": {},
   "outputs": [
    {
     "name": "stdout",
     "output_type": "stream",
     "text": [
      "+---------+-------+----------+\n",
      "|     Name|New Age|Experience|\n",
      "+---------+-------+----------+\n",
      "|    Peter|     45|        15|\n",
      "|Clevelend|     42|         3|\n",
      "| Quagmire|     61|        40|\n",
      "|      Joe|     40|         5|\n",
      "+---------+-------+----------+\n",
      "\n"
     ]
    }
   ],
   "source": [
    "## rename the column\n",
    "df.withColumnRenamed('Age', 'New Age').show()"
   ]
  },
  {
   "cell_type": "code",
   "execution_count": null,
   "id": "4de42479-2c6d-4fcf-8e7f-09f0e517625c",
   "metadata": {},
   "outputs": [],
   "source": []
  }
 ],
 "metadata": {
  "kernelspec": {
   "display_name": "Python 3 (ipykernel)",
   "language": "python",
   "name": "python3"
  },
  "language_info": {
   "codemirror_mode": {
    "name": "ipython",
    "version": 3
   },
   "file_extension": ".py",
   "mimetype": "text/x-python",
   "name": "python",
   "nbconvert_exporter": "python",
   "pygments_lexer": "ipython3",
   "version": "3.13.5"
  }
 },
 "nbformat": 4,
 "nbformat_minor": 5
}
