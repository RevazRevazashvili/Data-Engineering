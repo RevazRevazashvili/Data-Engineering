{
 "cells": [
  {
   "cell_type": "code",
   "execution_count": 1,
   "id": "6823436c-addc-44cd-b2ce-095abb1e94d5",
   "metadata": {},
   "outputs": [
    {
     "name": "stdout",
     "output_type": "stream",
     "text": [
      "Collecting pyspark\n",
      "  Using cached pyspark-4.0.0-py2.py3-none-any.whl\n",
      "Collecting py4j==0.10.9.9 (from pyspark)\n",
      "  Using cached py4j-0.10.9.9-py2.py3-none-any.whl.metadata (1.3 kB)\n",
      "Using cached py4j-0.10.9.9-py2.py3-none-any.whl (203 kB)\n",
      "Installing collected packages: py4j, pyspark\n",
      "\n",
      "   ---------------------------------------- 0/2 [py4j]\n",
      "   ---------------------------------------- 0/2 [py4j]\n",
      "   -------------------- ------------------- 1/2 [pyspark]\n",
      "   -------------------- ------------------- 1/2 [pyspark]\n",
      "   -------------------- ------------------- 1/2 [pyspark]\n",
      "   -------------------- ------------------- 1/2 [pyspark]\n",
      "   -------------------- ------------------- 1/2 [pyspark]\n",
      "   -------------------- ------------------- 1/2 [pyspark]\n",
      "   -------------------- ------------------- 1/2 [pyspark]\n",
      "   -------------------- ------------------- 1/2 [pyspark]\n",
      "   -------------------- ------------------- 1/2 [pyspark]\n",
      "   -------------------- ------------------- 1/2 [pyspark]\n",
      "   -------------------- ------------------- 1/2 [pyspark]\n",
      "   -------------------- ------------------- 1/2 [pyspark]\n",
      "   -------------------- ------------------- 1/2 [pyspark]\n",
      "   -------------------- ------------------- 1/2 [pyspark]\n",
      "   -------------------- ------------------- 1/2 [pyspark]\n",
      "   -------------------- ------------------- 1/2 [pyspark]\n",
      "   -------------------- ------------------- 1/2 [pyspark]\n",
      "   -------------------- ------------------- 1/2 [pyspark]\n",
      "   -------------------- ------------------- 1/2 [pyspark]\n",
      "   -------------------- ------------------- 1/2 [pyspark]\n",
      "   -------------------- ------------------- 1/2 [pyspark]\n",
      "   -------------------- ------------------- 1/2 [pyspark]\n",
      "   -------------------- ------------------- 1/2 [pyspark]\n",
      "   -------------------- ------------------- 1/2 [pyspark]\n",
      "   -------------------- ------------------- 1/2 [pyspark]\n",
      "   -------------------- ------------------- 1/2 [pyspark]\n",
      "   -------------------- ------------------- 1/2 [pyspark]\n",
      "   -------------------- ------------------- 1/2 [pyspark]\n",
      "   -------------------- ------------------- 1/2 [pyspark]\n",
      "   -------------------- ------------------- 1/2 [pyspark]\n",
      "   -------------------- ------------------- 1/2 [pyspark]\n",
      "   -------------------- ------------------- 1/2 [pyspark]\n",
      "   -------------------- ------------------- 1/2 [pyspark]\n",
      "   -------------------- ------------------- 1/2 [pyspark]\n",
      "   -------------------- ------------------- 1/2 [pyspark]\n",
      "   -------------------- ------------------- 1/2 [pyspark]\n",
      "   -------------------- ------------------- 1/2 [pyspark]\n",
      "   -------------------- ------------------- 1/2 [pyspark]\n",
      "   -------------------- ------------------- 1/2 [pyspark]\n",
      "   -------------------- ------------------- 1/2 [pyspark]\n",
      "   -------------------- ------------------- 1/2 [pyspark]\n",
      "   -------------------- ------------------- 1/2 [pyspark]\n",
      "   -------------------- ------------------- 1/2 [pyspark]\n",
      "   -------------------- ------------------- 1/2 [pyspark]\n",
      "   -------------------- ------------------- 1/2 [pyspark]\n",
      "   -------------------- ------------------- 1/2 [pyspark]\n",
      "   -------------------- ------------------- 1/2 [pyspark]\n",
      "   ---------------------------------------- 2/2 [pyspark]\n",
      "\n",
      "Successfully installed py4j-0.10.9.9 pyspark-4.0.0\n"
     ]
    }
   ],
   "source": [
    "!pip install pyspark"
   ]
  },
  {
   "cell_type": "code",
   "execution_count": 2,
   "id": "758bac81-0e5f-43bb-b163-021aaa1ead87",
   "metadata": {},
   "outputs": [],
   "source": [
    "from pyspark.sql import SparkSession\n",
    "import os"
   ]
  },
  {
   "cell_type": "code",
   "execution_count": 3,
   "id": "c299e020-f541-4574-a3f2-1d9c6ed99058",
   "metadata": {},
   "outputs": [],
   "source": [
    "spark = SparkSession.builder.appName('day_001').getOrCreate()"
   ]
  },
  {
   "cell_type": "code",
   "execution_count": 4,
   "id": "4986ba73-224e-4621-b82a-21994ad74fbd",
   "metadata": {},
   "outputs": [
    {
     "data": {
      "text/plain": [
       "'C:\\\\Users\\\\revaz\\\\Desktop\\\\rents.csv'"
      ]
     },
     "execution_count": 4,
     "metadata": {},
     "output_type": "execute_result"
    }
   ],
   "source": [
    "FILEPATH = r\"C:\\Users\\revaz\\Desktop\\rents.csv\" if os.path.exists(r'C:\\Users\\revaz\\Desktop\\rents.csv') else \"\"\n",
    "FILEPATH"
   ]
  },
  {
   "cell_type": "code",
   "execution_count": 5,
   "id": "17038058-6152-49f9-b499-7ba8b339a622",
   "metadata": {},
   "outputs": [],
   "source": [
    "df_pyspark = spark.read.csv(FILEPATH)"
   ]
  },
  {
   "cell_type": "code",
   "execution_count": 7,
   "id": "8f89c03d-a3ce-46d9-892c-5415bfc96a27",
   "metadata": {},
   "outputs": [
    {
     "name": "stdout",
     "output_type": "stream",
     "text": [
      "+---------------+--------------------+--------------------+--------------------+--------------------+--------------------+--------------+-------------+--------------+-----+-----+--------+-------+------------------+----------------+----------------+------------------+----------------+----------------+------------------+----------------+----------------+------------------+----------------+----------------+\n",
      "|            _c0|                 _c1|                 _c2|                 _c3|                 _c4|                 _c5|           _c6|          _c7|           _c8|  _c9| _c10|    _c11|   _c12|              _c13|            _c14|            _c15|              _c16|            _c17|            _c18|              _c19|            _c20|            _c21|              _c22|            _c23|            _c24|\n",
      "+---------------+--------------------+--------------------+--------------------+--------------------+--------------------+--------------+-------------+--------------+-----+-----+--------+-------+------------------+----------------+----------------+------------------+----------------+----------------+------------------+----------------+----------------+------------------+----------------+----------------+\n",
      "|Platform source|                 URL|               Title|             Address|             Website|          Agent Name|   Agent Phone|Building Type|          City|State|  Zip|Currency|Country|Room 1 Displayname|Room 1 Min Price|Room 1 Max Price|Room 2 Displayname|Room 2 Min Price|Room 2 Max Price|Room 3 Displayname|Room 3 Min Price|Room 3 Max Price|Room 4 Displayname|Room 4 Min Price|Room 4 Max Price|\n",
      "|         Zillow|https://www.zillo...|Legacy at Walton ...|1625 Oak Farm Dr,...|                NULL|       Leasing Agent|(770) 467-3759|     FOR_RENT|    Alpharetta|   GA|30005|     USD|    USA|              1 bd|            1716|          1716.0|              2 bd|          2626.0|          2626.0|              NULL|            NULL|            NULL|              NULL|            NULL|            NULL|\n",
      "|         Zillow|https://www.zillo...|The Station at Br...|1000 Station Dr, ...|                NULL|       Leasing Agent|(706) 222-7975|     FOR_RENT|     Grovetown|   GA|30813|     USD|    USA|              1 bd|            1200|          1365.0|              2 bd|          1365.0|          1780.0|              3 bd|          1835.0|          2030.0|              NULL|            NULL|            NULL|\n",
      "|         Zillow|https://www.zillo...|      Bower Westside|1000 Northside Dr...|https://www.zillo...|       Leasing Agent|(470) 646-5595|     FOR_RENT|       Atlanta|   GA|30318|     USD|    USA|              1 bd|            1400|          1591.0|              2 bd|          2156.0|          2293.0|              NULL|            NULL|            NULL|              NULL|            NULL|            NULL|\n",
      "|         Zillow|https://www.zillo...|The Village at Al...|1825 Parker Rd SE...|                NULL|       Leasing Agent|(470) 999-7237|     FOR_RENT|       Conyers|   GA|30094|     USD|    USA|              1 bd|            1501|          1565.0|              2 bd|          1585.0|          1848.0|              3 bd|          1635.0|          1720.0|              NULL|            NULL|            NULL|\n",
      "|         Zillow|https://www.zillo...|Greens at Stonecreek|100 Deer Creek Ci...|                NULL|       Leasing Agent|(706) 962-6412|     FOR_RENT|      Lithonia|   GA|30038|     USD|    USA|              2 bd|            1334|          1347.0|              3 bd|          1535.0|          1725.0|              NULL|            NULL|            NULL|              NULL|            NULL|            NULL|\n",
      "|         Zillow|https://www.zillo...|The Felicity on P...|1150 E Perry Ln, ...|https://www.zillo...|            Greystar|(912) 420-1065|     FOR_RENT|      Savannah|   GA|31401|     USD|    USA|              1 bd|            1710|          2010.0|              2 bd|          2522.0|          2646.0|              NULL|            NULL|            NULL|              NULL|            NULL|            NULL|\n",
      "|         Zillow|https://www.zillo...|Solis Dresden Vil...|1350 Dresden Dr, ...|https://www.zillo...|       Leasing Agent|(470) 619-2587|     FOR_RENT|    Brookhaven|   GA|30319|     USD|    USA|            Studio|            1630|          1655.0|              1 bd|          2100.0|          2470.0|              3 bd|          3775.0|          4485.0|              4 bd|          6500.0|          7250.0|\n",
      "|         Zillow|https://www.zillo...|Citizen on the Be...|665 Auburn Ave NE...|https://www.zillo...|       Leasing Agent|(470) 634-8916|     FOR_RENT|       Atlanta|   GA|30312|     USD|    USA|            Studio|            1850|          1975.0|              1 bd|          2295.0|          2595.0|              2 bd|          3645.0|          3645.0|              NULL|            NULL|            NULL|\n",
      "|         Zillow|https://www.zillo...|Gardens at Washin...|936 Mayson Turner...|                NULL|       Leasing Agent|(404) 777-5810|     FOR_RENT|       Atlanta|   GA|30314|     USD|    USA|              1 bd|            1219|          1219.0|              2 bd|          1112.0|          1282.0|              NULL|            NULL|            NULL|              NULL|            NULL|            NULL|\n",
      "|         Zillow|https://www.zillo...|Echo Ridge at Suw...|1460 Distribution...|https://www.zillo...|       Leasing Agent|(706) 710-8732|     FOR_RENT|       Suwanee|   GA|30024|     USD|    USA|              1 bd|            1449|          1665.0|              2 bd|          1850.0|          2225.0|              NULL|            NULL|            NULL|              NULL|            NULL|            NULL|\n",
      "|         Zillow|https://www.zillo...|     Everton Estates|100 Everton Pl, C...|                NULL|       Leasing Agent|(762) 243-2591|     FOR_RENT|  Cartersville|   GA|30121|     USD|    USA|              2 bd|            1799|          1819.0|              3 bd|          1935.0|          2135.0|              NULL|            NULL|            NULL|              NULL|            NULL|            NULL|\n",
      "|         Zillow|https://www.zillo...|Pointe Villas Bru...|100 Town Square R...|https://www.zillo...|       Leasing Agent|(912) 378-1601|     FOR_RENT|     Brunswick|   GA|31525|     USD|    USA|              3 bd|            2008|          2108.0|              NULL|            NULL|            NULL|              NULL|            NULL|            NULL|              NULL|            NULL|            NULL|\n",
      "|         Zillow|https://www.zillo...|Preserve at Heart...|154 Heartwood Ave...|https://www.zillo...|       Leasing Agent|(912) 430-8528|     FOR_RENT| Richmond Hill|   GA|31324|     USD|    USA|              1 bd|            1589|          1975.0|              2 bd|          2072.0|          2408.0|              3 bd|          2707.0|          2969.0|              NULL|            NULL|            NULL|\n",
      "|         Zillow|https://www.zillo...|      Hairston Woods|1173 N Hairston R...|                NULL|            Greystar|(470) 348-8175|     FOR_RENT|Stone Mountain|   GA|30083|     USD|    USA|              2 bd|            1149|          1449.0|              NULL|            NULL|            NULL|              NULL|            NULL|            NULL|              NULL|            NULL|            NULL|\n",
      "|         Zillow|https://www.zillo...|The Lofts at King...|1701 Goodrich St,...|https://www.zillo...|            Greystar|(706) 471-2959|     FOR_RENT|       Augusta|   GA|30904|     USD|    USA|              1 bd|            1500|          1900.0|              2 bd|          1820.0|          2225.0|              3 bd|          2615.0|          2750.0|              NULL|            NULL|            NULL|\n",
      "|         Zillow|https://www.zillo...|Lullwater at Jenn...|225 Jennings Mill...|https://www.zillo...|       Leasing Agent|(706) 655-6240|     FOR_RENT|        Athens|   GA|30606|     USD|    USA|              1 bd|            1513|          1815.0|              2 bd|          1661.0|          1939.0|              3 bd|          1819.0|          2418.0|              NULL|            NULL|            NULL|\n",
      "|         Zillow|https://www.zillo...|The Heron at Rive...|600 Grand Oaks Wa...|https://www.zillo...|            Greystar|(762) 225-9308|     FOR_RENT|      Martinez|   GA|30907|     USD|    USA|              1 bd|            1470|          1785.0|              2 bd|          1990.0|          2020.0|              3 bd|          2800.0|          3015.0|              NULL|            NULL|            NULL|\n",
      "|         Zillow|https://www.zillo...|Austin Chase Apar...|291 Plantation Ce...|                NULL|Austin Chase Apar...|(478) 347-0515|     FOR_RENT|         Macon|   GA|31210|     USD|    USA|              1 bd|            1294|          1294.0|              2 bd|          1033.0|          1198.0|              3 bd|          1305.0|          1305.0|              NULL|            NULL|            NULL|\n",
      "|         Zillow|https://www.zillo...|        AMLI Decatur|122 W Trinity Pl,...|https://www.zillo...|       Leasing Agent|(404) 554-4472|     FOR_RENT|       Decatur|   GA|30030|     USD|    USA|              1 bd|            1851|          2374.0|              2 bd|          2698.0|          4455.0|              NULL|            NULL|            NULL|              NULL|            NULL|            NULL|\n",
      "+---------------+--------------------+--------------------+--------------------+--------------------+--------------------+--------------+-------------+--------------+-----+-----+--------+-------+------------------+----------------+----------------+------------------+----------------+----------------+------------------+----------------+----------------+------------------+----------------+----------------+\n",
      "only showing top 20 rows\n"
     ]
    }
   ],
   "source": [
    "df_pyspark.show()"
   ]
  },
  {
   "cell_type": "code",
   "execution_count": 8,
   "id": "8480c98f-8838-44c7-b597-ee58b0b7396a",
   "metadata": {},
   "outputs": [],
   "source": [
    "df_pyspark = spark.read.option('header','true').csv(FILEPATH)"
   ]
  },
  {
   "cell_type": "code",
   "execution_count": 12,
   "id": "0762a64d-e2a3-4c2e-b827-4bf6cc1d9ac2",
   "metadata": {},
   "outputs": [
    {
     "data": {
      "text/plain": [
       "[Row(Platform source='Zillow', URL='https://www.zillow.com/apartments/alpharetta-ga/legacy-at-walton-bluegrass/65b7xY/', Title='Legacy at Walton Bluegrass', Address='1625 Oak Farm Dr, Alpharetta, GA 30005', Website=None, Agent Name='Leasing Agent', Agent Phone='(770) 467-3759', Building Type='FOR_RENT', City='Alpharetta', State='GA', Zip='30005', Currency='USD', Country='USA', Room 1 Displayname='1 bd', Room 1 Min Price='1716', Room 1 Max Price='1716.0', Room 2 Displayname='2 bd', Room 2 Min Price='2626.0', Room 2 Max Price='2626.0', Room 3 Displayname=None, Room 3 Min Price=None, Room 3 Max Price=None, Room 4 Displayname=None, Room 4 Min Price=None, Room 4 Max Price=None),\n",
       " Row(Platform source='Zillow', URL='https://www.zillow.com/apartments/grovetown-ga/the-station-at-brighton/BtLCnY/', Title='The Station at Brighton', Address='1000 Station Dr, Grovetown, GA 30813', Website=None, Agent Name='Leasing Agent', Agent Phone='(706) 222-7975', Building Type='FOR_RENT', City='Grovetown', State='GA', Zip='30813', Currency='USD', Country='USA', Room 1 Displayname='1 bd', Room 1 Min Price='1200', Room 1 Max Price='1365.0', Room 2 Displayname='2 bd', Room 2 Min Price='1365.0', Room 2 Max Price='1780.0', Room 3 Displayname='3 bd', Room 3 Min Price='1835.0', Room 3 Max Price='2030.0', Room 4 Displayname=None, Room 4 Min Price=None, Room 4 Max Price=None),\n",
       " Row(Platform source='Zillow', URL='https://www.zillow.com/apartments/atlanta-ga/bower-westside/5Xhv4Q/', Title='Bower Westside', Address='1000 Northside Dr NW, Atlanta, GA 30318', Website='https://www.zillow.com/renter-hub/clickRedirect?alias=43u3zc5vpk9y3&r=zillow&mobileFriendly=true', Agent Name='Leasing Agent', Agent Phone='(470) 646-5595', Building Type='FOR_RENT', City='Atlanta', State='GA', Zip='30318', Currency='USD', Country='USA', Room 1 Displayname='1 bd', Room 1 Min Price='1400', Room 1 Max Price='1591.0', Room 2 Displayname='2 bd', Room 2 Min Price='2156.0', Room 2 Max Price='2293.0', Room 3 Displayname=None, Room 3 Min Price=None, Room 3 Max Price=None, Room 4 Displayname=None, Room 4 Min Price=None, Room 4 Max Price=None)]"
      ]
     },
     "execution_count": 12,
     "metadata": {},
     "output_type": "execute_result"
    }
   ],
   "source": [
    "df_pyspark.head(3)"
   ]
  },
  {
   "cell_type": "code",
   "execution_count": 11,
   "id": "9c32bb22-4082-4695-b13b-dc7e6d3b0719",
   "metadata": {},
   "outputs": [
    {
     "data": {
      "text/plain": [
       "pyspark.sql.classic.dataframe.DataFrame"
      ]
     },
     "execution_count": 11,
     "metadata": {},
     "output_type": "execute_result"
    }
   ],
   "source": [
    "type(df_pyspark)"
   ]
  },
  {
   "cell_type": "code",
   "execution_count": 13,
   "id": "5f10e767-5db2-4efd-9f15-d9d0352df347",
   "metadata": {},
   "outputs": [
    {
     "name": "stdout",
     "output_type": "stream",
     "text": [
      "root\n",
      " |-- Platform source: string (nullable = true)\n",
      " |-- URL: string (nullable = true)\n",
      " |-- Title: string (nullable = true)\n",
      " |-- Address: string (nullable = true)\n",
      " |-- Website: string (nullable = true)\n",
      " |-- Agent Name: string (nullable = true)\n",
      " |-- Agent Phone: string (nullable = true)\n",
      " |-- Building Type: string (nullable = true)\n",
      " |-- City: string (nullable = true)\n",
      " |-- State: string (nullable = true)\n",
      " |-- Zip: string (nullable = true)\n",
      " |-- Currency: string (nullable = true)\n",
      " |-- Country: string (nullable = true)\n",
      " |-- Room 1 Displayname: string (nullable = true)\n",
      " |-- Room 1 Min Price: string (nullable = true)\n",
      " |-- Room 1 Max Price: string (nullable = true)\n",
      " |-- Room 2 Displayname: string (nullable = true)\n",
      " |-- Room 2 Min Price: string (nullable = true)\n",
      " |-- Room 2 Max Price: string (nullable = true)\n",
      " |-- Room 3 Displayname: string (nullable = true)\n",
      " |-- Room 3 Min Price: string (nullable = true)\n",
      " |-- Room 3 Max Price: string (nullable = true)\n",
      " |-- Room 4 Displayname: string (nullable = true)\n",
      " |-- Room 4 Min Price: string (nullable = true)\n",
      " |-- Room 4 Max Price: string (nullable = true)\n",
      "\n"
     ]
    }
   ],
   "source": [
    "df_pyspark.printSchema()"
   ]
  },
  {
   "cell_type": "code",
   "execution_count": null,
   "id": "4c626b4c-a676-45a7-af04-c336c159192d",
   "metadata": {},
   "outputs": [],
   "source": []
  }
 ],
 "metadata": {
  "kernelspec": {
   "display_name": "Python 3 (ipykernel)",
   "language": "python",
   "name": "python3"
  },
  "language_info": {
   "codemirror_mode": {
    "name": "ipython",
    "version": 3
   },
   "file_extension": ".py",
   "mimetype": "text/x-python",
   "name": "python",
   "nbconvert_exporter": "python",
   "pygments_lexer": "ipython3",
   "version": "3.13.5"
  }
 },
 "nbformat": 4,
 "nbformat_minor": 5
}
