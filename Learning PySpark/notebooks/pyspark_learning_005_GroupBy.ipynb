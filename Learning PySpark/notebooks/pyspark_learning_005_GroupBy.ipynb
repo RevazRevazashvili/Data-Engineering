{
 "cells": [
  {
   "cell_type": "markdown",
   "id": "52d957f7-b37e-49ba-82b4-161fcf665229",
   "metadata": {},
   "source": [
    "#### Pyspark GroupBy And Aggregate Functions"
   ]
  },
  {
   "cell_type": "code",
   "execution_count": 1,
   "id": "495834e7-b51f-4875-ba2e-c6ae2191d66f",
   "metadata": {},
   "outputs": [],
   "source": [
    "from pyspark.sql import SparkSession"
   ]
  },
  {
   "cell_type": "code",
   "execution_count": 2,
   "id": "0b2dbc90-0dab-4c5a-b924-da3a072d6b95",
   "metadata": {},
   "outputs": [],
   "source": [
    "spark = SparkSession.builder.appName('aggregate').getOrCreate()"
   ]
  },
  {
   "cell_type": "code",
   "execution_count": 19,
   "id": "c5e21eed-2be7-4677-9ffd-d30e1f899985",
   "metadata": {},
   "outputs": [],
   "source": [
    "df = spark.read.csv('people.csv', header=True, inferSchema=True)"
   ]
  },
  {
   "cell_type": "code",
   "execution_count": 20,
   "id": "f2034988-2fec-4d39-91b8-d349a988c00d",
   "metadata": {},
   "outputs": [
    {
     "data": {
      "text/plain": [
       "[Row(Name='Peter', Age=45, Experience=15, Gender='M', Salary=5000),\n",
       " Row(Name='Clevelend', Age=42, Experience=3, Gender=None, Salary=1000),\n",
       " Row(Name='Quagmire', Age=61, Experience=40, Gender='M', Salary=3500),\n",
       " Row(Name='Joe', Age=40, Experience=5, Gender=None, Salary=None),\n",
       " Row(Name='Lois', Age=40, Experience=4, Gender='F', Salary=2500)]"
      ]
     },
     "execution_count": 20,
     "metadata": {},
     "output_type": "execute_result"
    }
   ],
   "source": [
    "df.head(5)"
   ]
  },
  {
   "cell_type": "code",
   "execution_count": 21,
   "id": "b069a1c6-5e6b-4248-af98-114c57d56acf",
   "metadata": {},
   "outputs": [
    {
     "name": "stdout",
     "output_type": "stream",
     "text": [
      "root\n",
      " |-- Name: string (nullable = true)\n",
      " |-- Age: integer (nullable = true)\n",
      " |-- Experience: integer (nullable = true)\n",
      " |-- Gender: string (nullable = true)\n",
      " |-- Salary: integer (nullable = true)\n",
      "\n"
     ]
    }
   ],
   "source": [
    "df.printSchema()"
   ]
  },
  {
   "cell_type": "code",
   "execution_count": 22,
   "id": "198318cd-66ec-4e09-b742-16abfe9ab34e",
   "metadata": {},
   "outputs": [
    {
     "name": "stdout",
     "output_type": "stream",
     "text": [
      "+---------+--------+---------------+-----------+\n",
      "|     Name|sum(Age)|sum(Experience)|sum(Salary)|\n",
      "+---------+--------+---------------+-----------+\n",
      "|      Joe|      80|             10|       6000|\n",
      "|     Lois|      40|              4|       2500|\n",
      "|Clevelend|      42|              3|       1000|\n",
      "|      Meg|      17|              1|       NULL|\n",
      "| Quagmire|      61|             40|       3500|\n",
      "|    Peter|      90|             30|       9000|\n",
      "+---------+--------+---------------+-----------+\n",
      "\n"
     ]
    }
   ],
   "source": [
    "## Groupby\n",
    "df.groupBy('Name').sum().show()"
   ]
  },
  {
   "cell_type": "code",
   "execution_count": 23,
   "id": "4aa5dbed-720b-48ea-80a6-65b166af21a0",
   "metadata": {},
   "outputs": [
    {
     "name": "stdout",
     "output_type": "stream",
     "text": [
      "+------+--------+---------------+-----------+\n",
      "|Gender|sum(Age)|sum(Experience)|sum(Salary)|\n",
      "+------+--------+---------------+-----------+\n",
      "|     F|      57|              5|       2500|\n",
      "|  NULL|     122|             13|       7000|\n",
      "|     M|     151|             70|      12500|\n",
      "+------+--------+---------------+-----------+\n",
      "\n"
     ]
    }
   ],
   "source": [
    "df.groupBy('Gender').sum().show()"
   ]
  },
  {
   "cell_type": "code",
   "execution_count": 24,
   "id": "f949ea36-55c7-4555-b7d2-dfcc87e12b16",
   "metadata": {},
   "outputs": [
    {
     "name": "stdout",
     "output_type": "stream",
     "text": [
      "+------+-----+\n",
      "|Gender|count|\n",
      "+------+-----+\n",
      "|     F|    2|\n",
      "|  NULL|    3|\n",
      "|     M|    3|\n",
      "+------+-----+\n",
      "\n"
     ]
    }
   ],
   "source": [
    "df.groupBy('Gender').count().show()"
   ]
  },
  {
   "cell_type": "code",
   "execution_count": 26,
   "id": "567a5d1d-afe8-4f99-b293-f4d79b7d6d46",
   "metadata": {},
   "outputs": [
    {
     "name": "stdout",
     "output_type": "stream",
     "text": [
      "+------+-----------+\n",
      "|Gender|max(Salary)|\n",
      "+------+-----------+\n",
      "|     F|       2500|\n",
      "|  NULL|       6000|\n",
      "|     M|       5000|\n",
      "+------+-----------+\n",
      "\n"
     ]
    }
   ],
   "source": [
    "df['Gender', 'Salary'].groupBy('Gender').max().show()"
   ]
  },
  {
   "cell_type": "code",
   "execution_count": null,
   "id": "f43a9aa7-4a9a-4555-86da-a59f10aa62ee",
   "metadata": {},
   "outputs": [],
   "source": []
  },
  {
   "cell_type": "code",
   "execution_count": null,
   "id": "6519d506-2165-49fa-aa88-433e9c81847d",
   "metadata": {},
   "outputs": [],
   "source": []
  }
 ],
 "metadata": {
  "kernelspec": {
   "display_name": "Python 3 (ipykernel)",
   "language": "python",
   "name": "python3"
  },
  "language_info": {
   "codemirror_mode": {
    "name": "ipython",
    "version": 3
   },
   "file_extension": ".py",
   "mimetype": "text/x-python",
   "name": "python",
   "nbconvert_exporter": "python",
   "pygments_lexer": "ipython3",
   "version": "3.13.5"
  }
 },
 "nbformat": 4,
 "nbformat_minor": 5
}
