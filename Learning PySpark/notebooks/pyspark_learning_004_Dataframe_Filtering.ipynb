{
 "cells": [
  {
   "cell_type": "markdown",
   "id": "13eb149a-0438-4650-9d95-80ac5cef5259",
   "metadata": {},
   "source": [
    "# Pyspark Dataframes\n",
    "#### Filter Operation\n",
    "#### &, |, ==\n",
    "#### ~"
   ]
  },
  {
   "cell_type": "code",
   "execution_count": 1,
   "id": "1f9838fc-71df-49c0-8a32-3730c6b5cfef",
   "metadata": {},
   "outputs": [],
   "source": [
    "from pyspark.sql import SparkSession"
   ]
  },
  {
   "cell_type": "code",
   "execution_count": 2,
   "id": "dc57138c-d698-4bd2-9986-4d073bcab518",
   "metadata": {},
   "outputs": [],
   "source": [
    "spark = SparkSession.builder.appName('HMDataframe').getOrCreate()"
   ]
  },
  {
   "cell_type": "code",
   "execution_count": 3,
   "id": "6c46edf7-443a-4dca-a0bc-625ddd906cb2",
   "metadata": {},
   "outputs": [],
   "source": [
    "df = spark.read.csv('people.csv', header=True, inferSchema=True)"
   ]
  },
  {
   "cell_type": "code",
   "execution_count": 9,
   "id": "2507bce0-788c-4883-8415-ca3e826a9fae",
   "metadata": {},
   "outputs": [
    {
     "data": {
      "text/plain": [
       "[Row(Name='Peter', Age=45, Experience=15, Gender='M', Salary=5000),\n",
       " Row(Name='Clevelend', Age=42, Experience=3, Gender=None, Salary=1000),\n",
       " Row(Name='Quagmire', Age=61, Experience=40, Gender='M', Salary=3500)]"
      ]
     },
     "execution_count": 9,
     "metadata": {},
     "output_type": "execute_result"
    }
   ],
   "source": [
    "df.head(3)"
   ]
  },
  {
   "cell_type": "markdown",
   "id": "d0084163-c078-4a80-b80c-742edc461c27",
   "metadata": {},
   "source": [
    "### Filter Operation"
   ]
  },
  {
   "cell_type": "code",
   "execution_count": 11,
   "id": "90752efe-c93e-480a-b386-aafa95062f1d",
   "metadata": {},
   "outputs": [
    {
     "name": "stdout",
     "output_type": "stream",
     "text": [
      "+--------+---+----------+------+------+\n",
      "|    Name|Age|Experience|Gender|Salary|\n",
      "+--------+---+----------+------+------+\n",
      "|   Peter| 45|        15|     M|  5000|\n",
      "|Quagmire| 61|        40|     M|  3500|\n",
      "|    Lois| 40|         4|     F|  2500|\n",
      "+--------+---+----------+------+------+\n",
      "\n"
     ]
    }
   ],
   "source": [
    "## salary of the people greater than or equal to 2000\n",
    "df.filter(\"Salary>=2000\").show()"
   ]
  },
  {
   "cell_type": "code",
   "execution_count": 12,
   "id": "9daa4196-9019-478c-9750-f8ef57149481",
   "metadata": {},
   "outputs": [
    {
     "name": "stdout",
     "output_type": "stream",
     "text": [
      "+--------+---+\n",
      "|    Name|Age|\n",
      "+--------+---+\n",
      "|   Peter| 45|\n",
      "|Quagmire| 61|\n",
      "|    Lois| 40|\n",
      "+--------+---+\n",
      "\n"
     ]
    }
   ],
   "source": [
    "df.filter(\"Salary>=2000\").select(['Name', 'Age']).show()"
   ]
  },
  {
   "cell_type": "code",
   "execution_count": 15,
   "id": "77072229-2f02-47cf-9751-1e09ed739388",
   "metadata": {},
   "outputs": [
    {
     "name": "stdout",
     "output_type": "stream",
     "text": [
      "+-----+---+----------+------+------+\n",
      "| Name|Age|Experience|Gender|Salary|\n",
      "+-----+---+----------+------+------+\n",
      "|Peter| 45|        15|     M|  5000|\n",
      "| Lois| 40|         4|     F|  2500|\n",
      "+-----+---+----------+------+------+\n",
      "\n"
     ]
    }
   ],
   "source": [
    "## same operations but different method\n",
    "df.filter((df[\"Salary\"]>=2000) & (df[\"Age\"]<=45)).show()"
   ]
  },
  {
   "cell_type": "code",
   "execution_count": 16,
   "id": "7b11a488-151e-4741-9d99-18c08c6288ee",
   "metadata": {},
   "outputs": [
    {
     "name": "stdout",
     "output_type": "stream",
     "text": [
      "+---------+---+----------+------+------+\n",
      "|     Name|Age|Experience|Gender|Salary|\n",
      "+---------+---+----------+------+------+\n",
      "|Clevelend| 42|         3|  NULL|  1000|\n",
      "| Quagmire| 61|        40|     M|  3500|\n",
      "+---------+---+----------+------+------+\n",
      "\n"
     ]
    }
   ],
   "source": [
    "## not operator\n",
    "## retrieve all records except the records where salary is greter or equal to 2000 and age less than 45\n",
    "df.filter(~((df[\"Salary\"]>=2000) & (df[\"Age\"]<=45))).show()"
   ]
  },
  {
   "cell_type": "code",
   "execution_count": null,
   "id": "dee96705-96c9-418d-a868-602063391cf3",
   "metadata": {},
   "outputs": [],
   "source": []
  }
 ],
 "metadata": {
  "kernelspec": {
   "display_name": "Python 3 (ipykernel)",
   "language": "python",
   "name": "python3"
  },
  "language_info": {
   "codemirror_mode": {
    "name": "ipython",
    "version": 3
   },
   "file_extension": ".py",
   "mimetype": "text/x-python",
   "name": "python",
   "nbconvert_exporter": "python",
   "pygments_lexer": "ipython3",
   "version": "3.13.5"
  }
 },
 "nbformat": 4,
 "nbformat_minor": 5
}
